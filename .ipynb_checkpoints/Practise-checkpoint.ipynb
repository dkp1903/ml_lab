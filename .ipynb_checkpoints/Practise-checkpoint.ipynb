{
 "cells": [
  {
   "cell_type": "code",
   "execution_count": 6,
   "metadata": {
    "collapsed": true
   },
   "outputs": [],
   "source": [
    "import numpy as np\n",
    "import pandas as pd\n",
    "import random\n",
    "import math as mt"
   ]
  },
  {
   "cell_type": "code",
   "execution_count": null,
   "metadata": {
    "collapsed": true
   },
   "outputs": [],
   "source": [
    "#lab7\n",
    "#suppose your are giving me k and data\n",
    "reps = 100\n",
    "max_iter = 1000"
   ]
  },
  {
   "cell_type": "code",
   "execution_count": null,
   "metadata": {
    "collapsed": true
   },
   "outputs": [],
   "source": [
    "mini_error=math.inf\n",
    "for xx in range(reps):\n",
    "    centroids=data[random.sample(range(len(data)),k)]\n",
    "    for yy in range(max_iter):\n",
    "        classifications = {}\n",
    "        for i in range(k):\n",
    "            classifications[i] = []\n",
    "        for x in data:\n",
    "            distances = [np.linalgnorm(x-centroid) for centroid in centroids]\n",
    "            classifications[np.argmin(distances)].append(data)\n",
    "        prev_centroids = centroids\n",
    "        for i in range(k):\n",
    "            if len(classifications[i]) != 0:\n",
    "                centroids[i] = np.mean(classification[i], axis=0)\n",
    "            else:\n",
    "                centroids[i] = data[random.sample(range(len(data)),1)]\n",
    "        if max(np.linalgnorm(prev_centroids-centroids)) < 1e-5:\n",
    "            break\n",
    "    error = 0\n",
    "    for i in range(k):\n",
    "        for x in classifications[i]:\n",
    "            error += np.square(x-centroids[i]).sum()\n",
    "    if(mini_error > error):\n",
    "        mini_error = error\n",
    "        best_centroids = centroids"
   ]
  },
  {
   "cell_type": "code",
   "execution_count": null,
   "metadata": {
    "collapsed": true
   },
   "outputs": [],
   "source": [
    "#lab6\n",
    "#supposing x is given\n",
    "x_cov = np.cov(x)\n",
    "eigvals, eigvecs = np.linalg.eigh(x_cov)\n",
    "index = eigvals.argsort()[::-1]\n",
    "eigvals = eigvals[index]\n",
    "eigvecs = eigvecs[:,index]\n",
    "U = eigvecs\n",
    "Y = U.T@x\n",
    "recX50 = U[;:50]@Y[:50,0]"
   ]
  },
  {
   "cell_type": "code",
   "execution_count": 21,
   "metadata": {},
   "outputs": [
    {
     "name": "stdout",
     "output_type": "stream",
     "text": [
      "bias : 0.782471921333265\n",
      "variance : 0.003945578568459097\n",
      "0.7909563316760381\n",
      "0.7909563316760383\n"
     ]
    }
   ],
   "source": [
    "#lab5\n",
    "\n",
    "\n",
    "k = 1000\n",
    "x = np.linspace(0,(2*np.pi*k)/(1.5*1000),k)\n",
    "f = x + 2*np.sin(1.5*x)\n",
    "tmp = np.ones((len(x),1))\n",
    "xx = np.c_[tmp,x]\n",
    "samples = 1000\n",
    "f_hat = np.zeros((k,samples))\n",
    "\n",
    "\n",
    "for i in range(samples):\n",
    "    y = f + np.random.normal(0,mt.sqrt(2),x.shape[0])\n",
    "    th = np.linalg.inv(xx.T@xx)@xx.T@y\n",
    "    f_hat[i] = th[0] + th[1]*x\n",
    "\n",
    "    \n",
    "ef_hat = np.mean(f_hat,axis = 0)\n",
    "bias = f - ef_hat\n",
    "print(f'bias : {np.mean(abs(bias))}')\n",
    "var = np.mean((f_hat - ef_hat)**2,axis = 0)\n",
    "print(f'variance : {np.mean(var)}')\n",
    "MSE = np.mean((f_hat-f)**2,axis = 0)\n",
    "print(np.mean(MSE))\n",
    "print(np.mean(bias**2)+np.mean(var))"
   ]
  },
  {
   "cell_type": "code",
   "execution_count": null,
   "metadata": {
    "collapsed": true
   },
   "outputs": [],
   "source": [
    "#lab4\n",
    "#assumming we are given target,images \n",
    "images = images.reshape(len(images),-1)\n",
    "perm = np.random.permutation(len(images))\n",
    "train_data = perm[:int(0.8*len(perm))]\n",
    "test_data = perm[int(0.8*len(perm)):]\n",
    "x_train = images[train_data]\n",
    "y_train = target[train_data] \n",
    "x_test = images[test_data]\n",
    "y_test = target[test_data]\n",
    "n = 10\n",
    "numbers = [[] for i in range(n)]\n",
    "for i in range(len(x_test)):\n",
    "    numbers[y_test[i]].append(x_test[i])\n",
    "for i in range(n):\n",
    "    numbers[i]=np.array(numbers[i])\n",
    "mu = [0]*n\n",
    "sigma = [0]*n\n",
    "for i in range(n):\n",
    "    mu[i] = np.mean(numbers[i].T, axis = 0)\n",
    "    sigma[i] = np.cov(numbers[i].T, axis = 0)"
   ]
  },
  {
   "cell_type": "code",
   "execution_count": null,
   "metadata": {
    "collapsed": true
   },
   "outputs": [],
   "source": [
    "def delk(P,x,mu,sigma):\n",
    "    return np.log(P) - 0.5 *(x-mu).T@np.linalg.pinv(sigma)@(x-mu)"
   ]
  }
 ],
 "metadata": {
  "kernelspec": {
   "display_name": "Python 3",
   "language": "python",
   "name": "python3"
  },
  "language_info": {
   "codemirror_mode": {
    "name": "ipython",
    "version": 3
   },
   "file_extension": ".py",
   "mimetype": "text/x-python",
   "name": "python",
   "nbconvert_exporter": "python",
   "pygments_lexer": "ipython3",
   "version": "3.6.3"
  }
 },
 "nbformat": 4,
 "nbformat_minor": 2
}
