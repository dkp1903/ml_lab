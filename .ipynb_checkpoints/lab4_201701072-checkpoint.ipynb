{
 "cells": [
  {
   "cell_type": "code",
   "execution_count": 49,
   "metadata": {
    "collapsed": true
   },
   "outputs": [],
   "source": [
    "import pandas as pd\n",
    "import numpy as np\n",
    "import matplotlib.pyplot as plt\n",
    "import sys"
   ]
  },
  {
   "cell_type": "code",
   "execution_count": 50,
   "metadata": {
    "collapsed": true
   },
   "outputs": [],
   "source": [
    "#we are going to import smaller version of mnist dataset which is going to contain images of 8*8\n",
    "from sklearn import datasets"
   ]
  },
  {
   "cell_type": "code",
   "execution_count": 51,
   "metadata": {
    "collapsed": true
   },
   "outputs": [],
   "source": [
    "digits = datasets.load_digits()"
   ]
  },
  {
   "cell_type": "code",
   "execution_count": 52,
   "metadata": {},
   "outputs": [
    {
     "name": "stdout",
     "output_type": "stream",
     "text": [
      "1797"
     ]
    }
   ],
   "source": [
    "n_samples = len(digits.images)\n",
    "sys.stdout.write(f\"{n_samples}\")"
   ]
  },
  {
   "cell_type": "code",
   "execution_count": 53,
   "metadata": {
    "collapsed": true
   },
   "outputs": [],
   "source": [
    "#it will reshape the data of 1797,8,8 to 1797,64\n",
    "data = digits.images.reshape(n_samples, -1)"
   ]
  },
  {
   "cell_type": "code",
   "execution_count": 54,
   "metadata": {
    "collapsed": true
   },
   "outputs": [],
   "source": [
    "#data[x] represents what\n",
    "targets = digits.target"
   ]
  },
  {
   "cell_type": "code",
   "execution_count": 55,
   "metadata": {
    "collapsed": true
   },
   "outputs": [],
   "source": [
    "#will give a random permutation of 0 to len(data)-1\n",
    "perm = np.random.permutation(len(data))"
   ]
  },
  {
   "cell_type": "code",
   "execution_count": 56,
   "metadata": {
    "collapsed": true
   },
   "outputs": [],
   "source": [
    "train_data = perm[:int(0.8*len(data))]\n",
    "test_data = perm[int(0.8*len(data)):]"
   ]
  },
  {
   "cell_type": "code",
   "execution_count": 57,
   "metadata": {
    "collapsed": true
   },
   "outputs": [],
   "source": [
    "x_train = data[train_data]\n",
    "y_train = targets[train_data]\n",
    "x_test = data[test_data]\n",
    "y_test = targets[test_data]"
   ]
  },
  {
   "cell_type": "code",
   "execution_count": 59,
   "metadata": {},
   "outputs": [],
   "source": [
    "#alternate use number = [[] for i in range(10)]\n",
    "number = [[],[],[],[],[],[],[],[],[],[]]\n",
    "for i in range(len(x_train)):\n",
    "    number[y_train[i]].append(x_train[i])\n",
    "for i in range(10):\n",
    "    number[i] = np.array(number[i])\n",
    "    \n",
    "\n",
    "testim = [[],[],[],[],[],[],[],[],[],[]]\n",
    "for i in range(len(x_test)):\n",
    "    testim[y_test[i]].append(x_test[i])\n",
    "for i in range(10):\n",
    "    testim[i]=np.array(testim[i])"
   ]
  },
  {
   "cell_type": "code",
   "execution_count": 60,
   "metadata": {
    "collapsed": true
   },
   "outputs": [],
   "source": [
    "def covariance(a,mu):\n",
    "    cov=[]\n",
    "    #len(a) = 64\n",
    "    for i in range(len(a)):\n",
    "        temp = []\n",
    "        for j in range(len(a)):\n",
    "            # a[0]...........a[63] is going to number[:][0],.......number[:][63]\n",
    "            temp.append(np.mean((a[i]-mu[i])*(a[j]-mu[j])))\n",
    "        cov.append(temp)\n",
    "    return np.array(cov)"
   ]
  },
  {
   "cell_type": "markdown",
   "metadata": {},
   "source": [
    "# Binary classification"
   ]
  },
  {
   "cell_type": "code",
   "execution_count": 61,
   "metadata": {
    "collapsed": true
   },
   "outputs": [],
   "source": [
    "n=2"
   ]
  },
  {
   "cell_type": "code",
   "execution_count": 62,
   "metadata": {},
   "outputs": [
    {
     "name": "stdout",
     "output_type": "stream",
     "text": [
      "Running for 0\n",
      "Running for 1\n"
     ]
    }
   ],
   "source": [
    "sigma=np.zeros([n,64,64])\n",
    "mu=np.zeros([n,64])\n",
    "for i in range(n):\n",
    "    print(f\"Running for {i}\")\n",
    "    mu[i] = np.mean(number[i],axis=0)\n",
    "    number[i]=number[i]/255\n",
    "    #--------------important--------------#\n",
    "    sigma[i] = covariance(number[i].T,mu[i])\n",
    "sigma_avg = np.zeros([64,64])\n",
    "for i in range(n):\n",
    "    sigma_avg = sigma_avg + sigma[i]\n",
    "sigma_avg = sigma_avg/n"
   ]
  },
  {
   "cell_type": "code",
   "execution_count": 63,
   "metadata": {
    "collapsed": true
   },
   "outputs": [],
   "source": [
    "#prior probability array of size 64 which we are going to classify mean of that class and covariance matrix of that class\n",
    "def delk(P,X,mu,sigma):\n",
    "    return np.log(P)-0.5*((X-mu).T)@np.linalg.pinv(sigma)@(X-mu)"
   ]
  },
  {
   "cell_type": "code",
   "execution_count": 64,
   "metadata": {},
   "outputs": [
    {
     "name": "stdout",
     "output_type": "stream",
     "text": [
      "Running for 0\n",
      "Running for 1\n",
      "Accuracy for lda and qda respectively 100.0 100.0\n"
     ]
    }
   ],
   "source": [
    "cnt_lda=0\n",
    "cnt_qda=0\n",
    "for c in range(n):\n",
    "    print(f\"Running for {c}\")\n",
    "    for k in range(len(testim[c])):\n",
    "        val_qda = []\n",
    "        val_lda = []\n",
    "        for i in range(n):\n",
    "            val_lda.append(delk(len(number[i])/len(x_train),testim[c][k],mu[i],sigma_avg))\n",
    "            val_qda.append(delk(len(number[i])/len(x_train),testim[c][k],mu[i],sigma[i]))\n",
    "        index = np.argmax(val_lda)\n",
    "        if index == c:\n",
    "            cnt_lda=cnt_lda+1\n",
    "        index = np.argmax(val_qda)\n",
    "        if index == c:\n",
    "            cnt_qda=cnt_qda+1\n",
    "total=0\n",
    "for i in range(n):\n",
    "    total=total+len(testim[i])\n",
    "print(f\"Accuracy for lda and qda respectively {cnt_lda/total*100} {cnt_qda/total*100}\")"
   ]
  },
  {
   "cell_type": "markdown",
   "metadata": {},
   "source": [
    "# Multiclass classification"
   ]
  },
  {
   "cell_type": "code",
   "execution_count": 70,
   "metadata": {
    "collapsed": true
   },
   "outputs": [],
   "source": [
    "n=10"
   ]
  },
  {
   "cell_type": "code",
   "execution_count": 71,
   "metadata": {},
   "outputs": [
    {
     "name": "stdout",
     "output_type": "stream",
     "text": [
      "Running for 0\n",
      "Running for 1\n",
      "Running for 2\n",
      "Running for 3\n",
      "Running for 4\n",
      "Running for 5\n",
      "Running for 6\n",
      "Running for 7\n",
      "Running for 8\n",
      "Running for 9\n"
     ]
    }
   ],
   "source": [
    "sigma=np.zeros([n,64,64])\n",
    "mu=np.zeros([n,64])\n",
    "for i in range(n):\n",
    "    print(f\"Running for {i}\")\n",
    "    mu[i] = np.mean(number[i],axis=0)\n",
    "    number[i]=number[i]/255\n",
    "    #-------------important---------------#\n",
    "    sigma[i] = covariance(number[i].T,mu[i])\n",
    "sigma_avg = np.zeros([64,64])\n",
    "for i in range(n):\n",
    "    sigma_avg = sigma_avg + sigma[i]\n",
    "sigma_avg = sigma_avg/n"
   ]
  },
  {
   "cell_type": "code",
   "execution_count": 72,
   "metadata": {
    "collapsed": true
   },
   "outputs": [],
   "source": [
    "def delk(P,X,mu,sigma):\n",
    "    return np.log(P)-0.5*((X-mu).T)@np.linalg.pinv(sigma)@(X-mu)"
   ]
  },
  {
   "cell_type": "code",
   "execution_count": 73,
   "metadata": {
    "scrolled": true
   },
   "outputs": [
    {
     "name": "stdout",
     "output_type": "stream",
     "text": [
      "Running for 0\n",
      "Running for 1\n",
      "Running for 2\n",
      "Running for 3\n",
      "Running for 4\n",
      "Running for 5\n",
      "Running for 6\n",
      "Running for 7\n",
      "Running for 8\n",
      "Running for 9\n",
      "Accuracy for lda and qda respectively 61.111111111111114 74.72222222222223\n"
     ]
    }
   ],
   "source": [
    "cnt_lda=0\n",
    "cnt_qda=0\n",
    "for c in range(n):\n",
    "    print(f\"Running for {c}\")\n",
    "    for k in range(len(testim[c])):\n",
    "        val_qda = []\n",
    "        val_lda = []\n",
    "        for i in range(n):\n",
    "            val_lda.append(delk(len(number[i])/len(x_train),testim[c][k],mu[i],sigma_avg))\n",
    "            val_qda.append(delk(len(number[i])/len(x_train),testim[c][k],mu[i],sigma[i]))\n",
    "        index = np.argmax(val_lda)\n",
    "        if index == c:\n",
    "            cnt_lda=cnt_lda+1\n",
    "        index = np.argmax(val_qda)\n",
    "        if index == c:\n",
    "            cnt_qda=cnt_qda+1\n",
    "total=0\n",
    "for i in range(n):\n",
    "    total=total+len(testim[i])\n",
    "print(f\"Accuracy for lda and qda respectively {cnt_lda/total*100} {cnt_qda/total*100}\")"
   ]
  },
  {
   "cell_type": "code",
   "execution_count": null,
   "metadata": {
    "collapsed": true
   },
   "outputs": [],
   "source": []
  },
  {
   "cell_type": "code",
   "execution_count": null,
   "metadata": {
    "collapsed": true
   },
   "outputs": [],
   "source": []
  },
  {
   "cell_type": "code",
   "execution_count": null,
   "metadata": {
    "collapsed": true
   },
   "outputs": [],
   "source": []
  }
 ],
 "metadata": {
  "kernelspec": {
   "display_name": "Python 3",
   "language": "python",
   "name": "python3"
  },
  "language_info": {
   "codemirror_mode": {
    "name": "ipython",
    "version": 3
   },
   "file_extension": ".py",
   "mimetype": "text/x-python",
   "name": "python",
   "nbconvert_exporter": "python",
   "pygments_lexer": "ipython3",
   "version": "3.6.3"
  }
 },
 "nbformat": 4,
 "nbformat_minor": 2
}
