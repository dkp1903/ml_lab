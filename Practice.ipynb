{
 "cells": [
  {
   "cell_type": "code",
   "execution_count": 7,
   "metadata": {},
   "outputs": [],
   "source": [
    "from sympy import *\n",
    "import numpy as np\n",
    "import pandas as pd"
   ]
  },
  {
   "cell_type": "code",
   "execution_count": 11,
   "metadata": {},
   "outputs": [
    {
     "name": "stdout",
     "output_type": "stream",
     "text": [
      "Minimum value of the loss function is 2.48694567213106e-09\n",
      "No. of iteration 571\n"
     ]
    }
   ],
   "source": [
    "x = Symbol('x')\n",
    "l = x**2\n",
    "lprime = l.diff(x)\n",
    "l = lambdify(x,l,'numpy')\n",
    "lprime = lambdify(x,lprime,'numpy')\n",
    "x = 5\n",
    "alpha = 0.01\n",
    "min_diff = 1e-6\n",
    "x_next = x - alpha*lprime(x)\n",
    "i = 1\n",
    "while abs(x - x_next) >= min_diff:\n",
    "    x = x_next\n",
    "    x_next = x - alpha*lprime(x)\n",
    "    i += 1\n",
    "print(f'Minimum value of the loss function is {l(x)}')\n",
    "print(f'No. of iteration {i}')"
   ]
  },
  {
   "cell_type": "code",
   "execution_count": null,
   "metadata": {
    "collapsed": true
   },
   "outputs": [],
   "source": []
  }
 ],
 "metadata": {
  "kernelspec": {
   "display_name": "Python 3",
   "language": "python",
   "name": "python3"
  },
  "language_info": {
   "codemirror_mode": {
    "name": "ipython",
    "version": 3
   },
   "file_extension": ".py",
   "mimetype": "text/x-python",
   "name": "python",
   "nbconvert_exporter": "python",
   "pygments_lexer": "ipython3",
   "version": "3.6.3"
  }
 },
 "nbformat": 4,
 "nbformat_minor": 2
}
