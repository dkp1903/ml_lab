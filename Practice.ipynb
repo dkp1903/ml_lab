{
 "cells": [
  {
   "cell_type": "code",
   "execution_count": 1,
   "metadata": {
    "collapsed": true
   },
   "outputs": [],
   "source": [
    "import numpy as np\n",
    "import pandas as pd\n",
    "import random\n",
    "import math"
   ]
  },
  {
   "cell_type": "code",
   "execution_count": null,
   "metadata": {
    "collapsed": true
   },
   "outputs": [],
   "source": [
    "#lab7\n",
    "#suppose your are giving me k and data\n",
    "reps = 100\n",
    "max_iter = 1000"
   ]
  },
  {
   "cell_type": "code",
   "execution_count": null,
   "metadata": {},
   "outputs": [],
   "source": [
    "mini_error=math.inf\n",
    "for xx in range(reps):\n",
    "    centroids=data[random.sample(range(len(data)),k)]\n",
    "    for yy in range(max_iter):\n",
    "        classifications = {}\n",
    "        for i in range(k):\n",
    "            classifications[i] = []\n",
    "        for x in data:\n",
    "            distances = [np.linalgnorm(x-centroid) for centroid in centroids]\n",
    "            classifications[np.argmin(distances)].append(data)\n",
    "        prev_centroids = centroids\n",
    "        for i in range(k):\n",
    "            if len(classifications[i]) != 0:\n",
    "                centroids[i] = np.mean(classification[i], axis=0)\n",
    "            else:\n",
    "                centroids[i] = data[random.sample(range(len(data)),1)]\n",
    "        if max(np.linalgnorm(prev_centroids-centroids)) < 1e-5:\n",
    "            break\n",
    "    error = 0\n",
    "    for i in range(k):\n",
    "        for x in classifications[i]:\n",
    "            error += np.square(x-centroids[i]).sum()\n",
    "    if(mini_error > error):\n",
    "        mini_error = error\n",
    "        best_centroids = centroids"
   ]
  },
  {
   "cell_type": "code",
   "execution_count": null,
   "metadata": {
    "collapsed": true
   },
   "outputs": [],
   "source": [
    "#lab6\n",
    "#supposing x is given\n",
    "x_cov = np.cov(x)\n",
    "eigvals, eigvecs = np.linalg.eigh(x_cov)\n",
    "index = eigvals.argsort()[::-1]\n",
    "eigvals = eigvals[index]\n",
    "eigvecs = eigvecs[:,index]\n",
    "U = eigvecs\n",
    "Y = U.T@x\n",
    "recX50 = U[;:50]@Y[:50,0]"
   ]
  },
  {
   "cell_type": "code",
   "execution_count": null,
   "metadata": {
    "collapsed": true
   },
   "outputs": [],
   "source": [
    "#lab5\n",
    "x = np.linspace(0,2*np.pi*k/1000,100)\n",
    "f = x + 2*sin(1.5*x)\n",
    "tmp = np.ones((len(x),1))\n",
    "xx = np.c_[tmp,x]\n",
    "f_hat = np.zeros()"
   ]
  }
 ],
 "metadata": {
  "kernelspec": {
   "display_name": "Python 3",
   "language": "python",
   "name": "python3"
  },
  "language_info": {
   "codemirror_mode": {
    "name": "ipython",
    "version": 3
   },
   "file_extension": ".py",
   "mimetype": "text/x-python",
   "name": "python",
   "nbconvert_exporter": "python",
   "pygments_lexer": "ipython3",
   "version": "3.6.3"
  }
 },
 "nbformat": 4,
 "nbformat_minor": 2
}
