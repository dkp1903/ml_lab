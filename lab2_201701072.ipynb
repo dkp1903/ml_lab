{
 "cells": [
  {
   "cell_type": "code",
   "execution_count": 11,
   "metadata": {},
   "outputs": [
    {
     "name": "stdout",
     "output_type": "stream",
     "text": [
      "No. of iterations - 526\n",
      "Loss function value - 2.45154273629758e-09\n"
     ]
    }
   ],
   "source": [
    "#Q1 1\n",
    "from sympy import *\n",
    "import numpy as np\n",
    "import pandas as pd\n",
    "import math as m\n",
    "x = Symbol('x')\n",
    "l=x**2\n",
    "lprime=l.diff(x)\n",
    "l=lambdify(x, l, 'numpy')\n",
    "f=lambdify(x, lprime, 'numpy')\n",
    "x=2\n",
    "alpha=0.01\n",
    "min_diff=0.000001\n",
    "x_next=x-alpha*f(x)\n",
    "i=1\n",
    "while(np.abs(x_next-x)>=min_diff):\n",
    "    x=x_next\n",
    "    x_next=x-alpha*f(x)\n",
    "    i+=1\n",
    "print(f\"No. of iterations - {i}\")\n",
    "print(f\"Loss function value - {l(x)}\")"
   ]
  },
  {
   "cell_type": "code",
   "execution_count": 12,
   "metadata": {},
   "outputs": [
    {
     "name": "stdout",
     "output_type": "stream",
     "text": [
      "No. of iteration - 526\n",
      "Loss function value - 4.90308547259516e-09\n"
     ]
    }
   ],
   "source": [
    "#Q1 2\n",
    "x1 = Symbol('x1')\n",
    "x2 = Symbol('x2')\n",
    "l=x1**2+x2**2\n",
    "lprime1=l.diff(x1)\n",
    "lprime2=l.diff(x2)\n",
    "l=lambdify([x1,x2],l,'numpy')\n",
    "f1=lambdify([x1,x2], lprime1, 'numpy')\n",
    "f2=lambdify([x1,x2], lprime2, 'numpy')\n",
    "alpha=0.01\n",
    "min_diff=0.000001\n",
    "x1=2\n",
    "x2=2\n",
    "x1_next=x1-alpha*f1(x1,x2)\n",
    "x2_next=x2-alpha*f2(x1,x2)\n",
    "i=1\n",
    "while(np.abs(x1_next-x1)>=min_diff or np.abs(x2_next-x2)>=min_diff):\n",
    "    x1=x1_next\n",
    "    x2=x2_next\n",
    "    x1_next=x1-alpha*f1(x1,x2)\n",
    "    x2_next=x2-alpha*f2(x1,x2)\n",
    "    i+=1\n",
    "print(f\"No. of iteration - {i}\")\n",
    "print(f\"Loss function value - {l(x1,x2)}\")"
   ]
  },
  {
   "cell_type": "code",
   "execution_count": 13,
   "metadata": {},
   "outputs": [
    {
     "name": "stdout",
     "output_type": "stream",
     "text": [
      "No. of iterations - 492\n",
      "Loss function value - 2.4210643345531677e-09\n"
     ]
    }
   ],
   "source": [
    "#Q1 3\n",
    "from sympy import *\n",
    "import numpy as np\n",
    "import pandas as pd\n",
    "import math as m\n",
    "x = Symbol('x')\n",
    "l=(x-1)**2\n",
    "lprime=l.diff(x)\n",
    "l=lambdify(x, l, 'numpy')\n",
    "f=lambdify(x, lprime, 'numpy')\n",
    "x=2\n",
    "alpha=0.01\n",
    "min_diff=0.000001\n",
    "x_next=x-alpha*f(x)\n",
    "i=1\n",
    "while(np.abs(x_next-x)>=min_diff):\n",
    "    x=x_next\n",
    "    x_next=x-alpha*f(x)\n",
    "    i+=1\n",
    "print(f\"No. of iterations - {i}\")\n",
    "print(f\"Loss function value - {l(x)}\")"
   ]
  },
  {
   "cell_type": "code",
   "execution_count": 14,
   "metadata": {},
   "outputs": [
    {
     "name": "stdout",
     "output_type": "stream",
     "text": [
      "No. of iteration - 261\n",
      "Loss function value - 2.416023598376474e-09\n"
     ]
    }
   ],
   "source": [
    "#Q1 4\n",
    "x1 = Symbol('x1')\n",
    "x2 = Symbol('x2')\n",
    "l=2*(x1-1)**2+2*(x2-1)**2\n",
    "lprime1=l.diff(x1)\n",
    "lprime2=l.diff(x2)\n",
    "l=lambdify([x1,x2],l,'numpy')\n",
    "f1=lambdify(x1, lprime1, 'numpy')\n",
    "f2=lambdify(x2, lprime2, 'numpy')\n",
    "alpha=0.01\n",
    "min_diff=0.000001\n",
    "x1=2\n",
    "x1_next=x1-alpha*f1(x1)\n",
    "x2=2\n",
    "x2_next=x2-alpha*f2(x2)\n",
    "i=1\n",
    "while(np.abs(x1_next-x1)>=min_diff or np.abs(x2_next-x2)>=min_diff):\n",
    "    x1=x1_next\n",
    "    x1_next=x1-alpha*f1(x1)\n",
    "    x2=x2_next\n",
    "    x2_next=x2-alpha*f2(x2)\n",
    "    i+=1\n",
    "print(f\"No. of iteration - {i}\")\n",
    "print(f\"Loss function value - {l(x1,x2)}\")"
   ]
  },
  {
   "cell_type": "code",
   "execution_count": 15,
   "metadata": {},
   "outputs": [
    {
     "name": "stdout",
     "output_type": "stream",
     "text": [
      "Value of the loss function 1572.6503668923153\n",
      "[23.718084632762707, -6.8669952538870866]\n",
      "No. of iteration - 139\n"
     ]
    }
   ],
   "source": [
    "#Q1 5\n",
    "import io\n",
    "df2 = pd.read_excel('/home/rohan/Downloads/datafPr1.xlsx')\n",
    "x = df2['x'].to_numpy()\n",
    "m = len(x)\n",
    "x = (x-np.mean(x))/np.std(x)\n",
    "y = df2['y'].to_numpy()\n",
    "\n",
    "theta0 = Symbol('theta0')\n",
    "theta1 = Symbol('theta1')\n",
    "\n",
    "ltheta = (y[0]-(theta0+theta1*(x[0])))**2\n",
    "for i in range(1,m):\n",
    "    ltheta = ltheta+(y[i]-(theta0+theta1*(x[i])))**2\n",
    "    \n",
    "lprime1 = ltheta.diff(theta0)\n",
    "lprime2 = ltheta.diff(theta1)\n",
    "f1 = lambdify([theta0,theta1], lprime1, 'numpy')\n",
    "f2 = lambdify([theta0,theta1], lprime2, 'numpy')\n",
    "ltheta = lambdify([theta0,theta1], ltheta, 'numpy')\n",
    "\n",
    "alpha = 0.01\n",
    "min_diff = 0.000001\n",
    "theta0 = 2\n",
    "theta1 = 2\n",
    "\n",
    "theta0_next = theta0-alpha*f1(theta0,theta1)\n",
    "theta1_next = theta1-alpha*f2(theta0,theta1)\n",
    "i=1\n",
    "while(np.abs(theta0_next-theta0)>=min_diff or np.abs(theta1_next-theta1)>=min_diff):\n",
    "    theta0 = theta0_next\n",
    "    theta1 = theta1_next\n",
    "    theta0_next = theta0-alpha*f1(theta0,theta1)\n",
    "    theta1_next = theta1-alpha*f2(theta0,theta1)\n",
    "    i+=1\n",
    "    \n",
    "print(f\"Value of the loss function {ltheta(theta0,theta1)}\")\n",
    "print([theta0,theta1])\n",
    "print(f\"No. of iteration - {i}\")"
   ]
  },
  {
   "cell_type": "code",
   "execution_count": 16,
   "metadata": {},
   "outputs": [
    {
     "name": "stdout",
     "output_type": "stream",
     "text": [
      "value of the loss function - 1231.6075243166288\n",
      "value of parameters - [23.579736468987509, -6.7426505844226465]\n"
     ]
    }
   ],
   "source": [
    "#Q2\n",
    "from sympy import *\n",
    "import numpy as np\n",
    "import pandas as pd\n",
    "import math as m\n",
    "import io\n",
    "\n",
    "df2=pd.read_excel('/home/rohan/Downloads/datafPr1.xlsx')\n",
    "x=df2['x'].to_numpy()\n",
    "x=(x-np.mean(x))/np.std(x)\n",
    "y=df2['y'].to_numpy()\n",
    "\n",
    "m=len(x)\n",
    "theta0 = Symbol('theta0')\n",
    "theta1 = Symbol('theta1')\n",
    "ltheta = y[0]-(theta0+theta1*(x[0]))**2\n",
    "for i in range(1,m):\n",
    "    ltheta=ltheta+(y[i]-(theta0+theta1*(x[i])))**2\n",
    "#-2*(y[i]-(theta0+theta1*x[i]))\n",
    "#-2*(y[i]-(theta0+theta1*x[i]))*x[i]\n",
    "ltheta = lambdify([theta0,theta1], ltheta, 'numpy')\n",
    "a = np.random.randint(0,m-1)\n",
    "\n",
    "alpha = 0.01\n",
    "min_diff = 0.01\n",
    "theta0_ = 30\n",
    "theta1_ = -10\n",
    "\n",
    "theta0_next = theta0_+alpha*2*(y[a]-(theta0_+theta1_*x[a]))\n",
    "theta1_next = theta1_+alpha*2*(y[a]-(theta0_+theta1_*x[a]))*x[a]\n",
    "i = 1\n",
    "while(i<10000000):\n",
    "    theta0_ = theta0_next\n",
    "    theta1_ = theta1_next\n",
    "    a = np.random.randint(0,m-1)\n",
    "    theta0_next = theta0_+alpha*2*(y[a]-(theta0_+theta1_*x[a]))\n",
    "    theta1_next = theta1_+alpha*2*(y[a]-(theta0_+theta1_*x[a]))*x[a]\n",
    "    i += 1\n",
    "\n",
    "print(f\"value of the loss function - {ltheta(theta0_,theta1_)}\")\n",
    "print(f\"value of parameters - {[theta0_,theta1_]}\")"
   ]
  },
  {
   "cell_type": "code",
   "execution_count": 17,
   "metadata": {},
   "outputs": [
    {
     "name": "stdout",
     "output_type": "stream",
     "text": [
      "No. of iteration 3\n",
      "Value of the loss function - 0\n"
     ]
    }
   ],
   "source": [
    "\n",
    "#Q3 1\n",
    "from sympy import *\n",
    "import numpy as np\n",
    "import pandas as pd\n",
    "import math as m\n",
    "\n",
    "x = Symbol('x')\n",
    "alpha = Symbol('alpha')\n",
    "l = x**2\n",
    "lprime = l.diff(x)\n",
    "l = lambdify(x, l, 'numpy')\n",
    "f = lambdify(x, lprime, 'numpy')\n",
    "\n",
    "lalpha = l(x-lprime*alpha)\n",
    "lalpha_ = lalpha.diff(alpha)\n",
    "lalpha__ = lalpha_.diff(alpha)\n",
    "d = lalpha_/lalpha__\n",
    "d = lambdify(alpha, d, 'numpy')\n",
    "\n",
    "x = 2\n",
    "alpha = 0.01\n",
    "min_diff = 0.000001\n",
    "x_next = x-alpha*f(x)\n",
    "alpha = alpha-d(alpha)\n",
    "i=1\n",
    "while(np.abs(x_next-x)>=min_diff):\n",
    "    x=x_next\n",
    "    x_next=x-alpha*f(x)\n",
    "    alpha = alpha-d(alpha)\n",
    "    i+=1\n",
    "print(f\"No. of iteration {i}\")\n",
    "print(f\"Value of the loss function - {l(x)}\")"
   ]
  },
  {
   "cell_type": "code",
   "execution_count": 18,
   "metadata": {},
   "outputs": [
    {
     "name": "stdout",
     "output_type": "stream",
     "text": [
      "No. of iteration - 3\n",
      "Loss function value - 0.0\n"
     ]
    }
   ],
   "source": [
    "#Q3 2\n",
    "x1 = Symbol('x1')\n",
    "x2 = Symbol('x2')\n",
    "alpha = Symbol('alpha')\n",
    "l=x1**2+x2**2\n",
    "lprime1=l.diff(x1)\n",
    "lprime2=l.diff(x2)\n",
    "l=lambdify([x1,x2],l,'numpy')\n",
    "f1=lambdify([x1,x2], lprime1, 'numpy')\n",
    "f2=lambdify([x1,x2], lprime2, 'numpy')\n",
    "\n",
    "lalpha1 = l(x1-lprime1*alpha,x2-lprime2*alpha)\n",
    "lalpha1_ = lalpha1.diff(alpha)\n",
    "lalpha1__ = lalpha1_.diff(alpha)\n",
    "d = simplify(lalpha1_/lalpha1__)\n",
    "d = lambdify([alpha, x1 ,x2], d, 'numpy')\n",
    "\n",
    "alpha=0.01\n",
    "min_diff=0.000001\n",
    "x1=2\n",
    "x2=2\n",
    "x1_next=x1-alpha*f1(x1,x2)\n",
    "x2_next=x2-alpha*f2(x1,x2)\n",
    "alpha=alpha-d(alpha,x1,x2)\n",
    "i=1\n",
    "while(np.abs(x1_next-x1)>=min_diff or np.abs(x2_next-x2)>=min_diff):\n",
    "    x1=x1_next\n",
    "    x2=x2_next\n",
    "    x1_next=x1-alpha*f1(x1,x2)\n",
    "    x2_next=x2-alpha*f2(x1,x2)\n",
    "    alpha=alpha-d(alpha,x1,x2)\n",
    "    i+=1\n",
    "print(f\"No. of iteration - {i}\")\n",
    "print(f\"Loss function value - {l(x1,x2)}\")"
   ]
  },
  {
   "cell_type": "code",
   "execution_count": 19,
   "metadata": {},
   "outputs": [
    {
     "name": "stdout",
     "output_type": "stream",
     "text": [
      "No. of iteration 3\n",
      "Value of the loss function - 0.0\n"
     ]
    }
   ],
   "source": [
    "#Q3 3\n",
    "from sympy import *\n",
    "import numpy as np\n",
    "import pandas as pd\n",
    "import math as m\n",
    "\n",
    "x = Symbol('x')\n",
    "alpha = Symbol('alpha')\n",
    "l = (x-1)**2\n",
    "lprime = l.diff(x)\n",
    "l = lambdify(x, l, 'numpy')\n",
    "f = lambdify(x, lprime, 'numpy')\n",
    "\n",
    "lalpha = l(x-lprime*alpha)\n",
    "lalpha_ = lalpha.diff(alpha)\n",
    "lalpha__ = lalpha_.diff(alpha)\n",
    "d = simplify(lalpha_/lalpha__)\n",
    "d = lambdify([alpha,x], d, 'numpy')\n",
    "\n",
    "x = 2\n",
    "alpha = 0.01\n",
    "min_diff = 0.000001\n",
    "x_next = x-alpha*f(x)\n",
    "alpha = alpha-d(alpha,x)\n",
    "i=1\n",
    "while(np.abs(x_next-x)>=min_diff):\n",
    "    x=x_next\n",
    "    x_next=x-alpha*f(x)\n",
    "    alpha = alpha-d(alpha,x)\n",
    "    i+=1\n",
    "print(f\"No. of iteration {i}\")\n",
    "print(f\"Value of the loss function - {l(x)}\")"
   ]
  },
  {
   "cell_type": "code",
   "execution_count": 20,
   "metadata": {},
   "outputs": [
    {
     "name": "stdout",
     "output_type": "stream",
     "text": [
      "No. of iteration - 3\n",
      "Loss function value - 0.0\n"
     ]
    }
   ],
   "source": [
    "#Q3 4\n",
    "x1 = Symbol('x1')\n",
    "x2 = Symbol('x2')\n",
    "alpha = Symbol('alpha')\n",
    "l=(x1-1)**2+(x2-1)**2\n",
    "lprime1=l.diff(x1)\n",
    "lprime2=l.diff(x2)\n",
    "l=lambdify([x1,x2],l,'numpy')\n",
    "f1=lambdify([x1,x2], lprime1, 'numpy')\n",
    "f2=lambdify([x1,x2], lprime2, 'numpy')\n",
    "\n",
    "lalpha1 = l(x1-lprime1*alpha,x2-lprime2*alpha)\n",
    "lalpha1_ = lalpha1.diff(alpha)\n",
    "lalpha1__ = lalpha1_.diff(alpha)\n",
    "d = simplify(lalpha1_/lalpha1__)\n",
    "d = lambdify([alpha, x1 ,x2], d, 'numpy')\n",
    "alpha=0.01\n",
    "min_diff=0.000001\n",
    "x1=2\n",
    "x2=2\n",
    "x1_next=x1-alpha*f1(x1,x2)\n",
    "x2_next=x2-alpha*f2(x1,x2)\n",
    "alpha=alpha-d(alpha,x1,x2)\n",
    "i=1\n",
    "while(np.abs(x1_next-x1)>=min_diff or np.abs(x2_next-x2)>=min_diff):\n",
    "    x1=x1_next\n",
    "    x2=x2_next\n",
    "    x1_next=x1-alpha*f1(x1,x2)\n",
    "    x2_next=x2-alpha*f2(x1,x2)\n",
    "    alpha=alpha-d(alpha,x1,x2)\n",
    "    i+=1\n",
    "print(f\"No. of iteration - {i}\")\n",
    "print(f\"Loss function value - {l(x1,x2)}\")"
   ]
  },
  {
   "cell_type": "code",
   "execution_count": 21,
   "metadata": {},
   "outputs": [
    {
     "name": "stdout",
     "output_type": "stream",
     "text": [
      "Value of the loss function - 1572.6503668923147\n",
      "Value of the features - [23.718085106383, -6.8669954472559311]\n",
      "No. of iteration - 3\n"
     ]
    }
   ],
   "source": [
    "#Q3 5\n",
    "df2 = pd.read_excel('/home/rohan/Downloads/datafPr1.xlsx')\n",
    "x = df2['x'].to_numpy()\n",
    "m = len(x)\n",
    "x = (x-np.mean(x))/np.std(x)\n",
    "y = df2['y'].to_numpy()\n",
    "\n",
    "theta0 = Symbol('theta0')\n",
    "theta1 = Symbol('theta1')\n",
    "alpha = Symbol('alpha')\n",
    "\n",
    "ltheta=simplify(sum([(y[i]-(theta0+theta1*x[i]))**2 for i in range(len(x))]))\n",
    "\n",
    "lprime1 = ltheta.diff(theta0)\n",
    "lprime2 = ltheta.diff(theta1)\n",
    "\n",
    "f1 = lambdify([theta0,theta1], lprime1, 'numpy')\n",
    "f2 = lambdify([theta0,theta1], lprime2, 'numpy')\n",
    "ltheta = lambdify([theta0,theta1], ltheta, 'numpy')\n",
    "\n",
    "lalpha1 = ltheta(theta0-lprime1*alpha,theta1-lprime2*alpha)\n",
    "lalpha1_ = lalpha1.diff(alpha)\n",
    "lalpha1__ = lalpha1_.diff(alpha)\n",
    "d = lalpha1_/lalpha1__\n",
    "d = lambdify([alpha, theta0, theta1], d, 'numpy')\n",
    "\n",
    "alpha = 0.1\n",
    "min_diff = 0.000001\n",
    "theta0 = 20\n",
    "theta1 = 20\n",
    "theta0_next = theta0-alpha*f1(theta0,theta1)\n",
    "theta1_next = theta1-alpha*f2(theta0,theta1)\n",
    "alpha=alpha-d(alpha,theta0,theta1)\n",
    "i=1\n",
    "while((np.abs(theta0_next-theta0)>=min_diff or np.abs(theta1_next-theta1)>=min_diff)):\n",
    "    theta0 = theta0_next\n",
    "    theta1 = theta1_next\n",
    "    theta0_next = theta0-alpha*f1(theta0,theta1)\n",
    "    theta1_next = theta1-alpha*f2(theta0,theta1)\n",
    "    alpha=alpha-d(alpha,theta0,theta1)\n",
    "    i+=1\n",
    "    \n",
    "print(f\"Value of the loss function - {ltheta(theta0,theta1)}\")\n",
    "print(f\"Value of the features - {[theta0,theta1]}\")\n",
    "print(f\"No. of iteration - {i}\")"
   ]
  }
 ],
 "metadata": {
  "kernelspec": {
   "display_name": "Python 3",
   "language": "python",
   "name": "python3"
  },
  "language_info": {
   "codemirror_mode": {
    "name": "ipython",
    "version": 3
   },
   "file_extension": ".py",
   "mimetype": "text/x-python",
   "name": "python",
   "nbconvert_exporter": "python",
   "pygments_lexer": "ipython3",
   "version": "3.6.3"
  }
 },
 "nbformat": 4,
 "nbformat_minor": 2
}
