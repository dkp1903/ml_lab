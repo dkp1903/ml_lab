{
 "cells": [
  {
   "cell_type": "code",
   "execution_count": 16,
   "metadata": {},
   "outputs": [
    {
     "data": {
      "image/png": "[encoded data removed]",
      "text/plain": [
       "<matplotlib.figure.Figure at 0x7fc18d324fd0>"
      ]
     },
     "metadata": {},
     "output_type": "display_data"
    },
    {
     "data": {
      "image/png": "[encoded data removed]",
      "text/plain": [
       "<matplotlib.figure.Figure at 0x7fc18e5b3828>"
      ]
     },
     "metadata": {},
     "output_type": "display_data"
    }
   ],
   "source": [
    "#Q1 \n",
    "import numpy as np\n",
    "import matplotlib.pyplot as plt\n",
    "\n",
    "colors=[\"RED\",\"BLUE\"]\n",
    "df = pd.read_excel(r'/home/rohan/Downloads/ex2data1-logistic.xls')\n",
    "x1 = np.array(df['x1'])\n",
    "x1 = (x1-x1.mean())/np.std(x1)\n",
    "x2 = np.array(df['x2'])\n",
    "x2 = (x2-x2.mean())/np.std(x2)\n",
    "y = np.array(df['y'])\n",
    "\n",
    "for i in range(len(x1)):\n",
    "    plt.scatter(x1[i],x2[i],color = colors[y[i]])\n",
    "plt.show()\n",
    "\n",
    "df = pd.read_excel(r'/home/rohan/Downloads/ex2data2-logistic.xls')\n",
    "x1 = np.array(df['x1'])\n",
    "x1 = (x1-x1.mean())/np.std(x1)\n",
    "x2 = np.array(df['x2'])\n",
    "x2 = (x2-x2.mean())/np.std(x2)\n",
    "y = np.array(df['y'])\n",
    "\n",
    "for i in range(len(x1)):\n",
    "    plt.scatter(x1[i],x2[i],color = colors[y[i]])\n",
    "plt.show()"
   ]
  },
  {
   "cell_type": "code",
   "execution_count": 18,
   "metadata": {
    "scrolled": true
   },
   "outputs": [
    {
     "name": "stdout",
     "output_type": "stream",
     "text": [
      "Accuracy = 90.0\n"
     ]
    }
   ],
   "source": [
    "#Q2\n",
    "from sympy import *\n",
    "import numpy as np\n",
    "import pandas as pd\n",
    "import math as m\n",
    "import random\n",
    "z = Symbol('z')\n",
    "g = 1/(1+exp(-z))\n",
    "g = lambdify(z,g,'numpy')\n",
    "\n",
    "df = pd.read_excel(r'/home/rohan/Downloads/ex2data1-logistic.xls')\n",
    "x1 = np.array(df['x1'])\n",
    "x1 = (x1-x1.mean())/np.std(x1)\n",
    "x2 = np.array(df['x2'])\n",
    "x2 = (x2-x2.mean())/np.std(x2)\n",
    "y = np.array(df['y'])\n",
    "\n",
    "\n",
    "\n",
    "temp = np.ones((len(x1),1))\n",
    "X = np.c_[temp,x1,x2]\n",
    "randomize = np.arange(len(X))\n",
    "random.shuffle(randomize)\n",
    "X = X[randomize]\n",
    "y = y[randomize]\n",
    "test_input=X[int(0.9*len(X)):]\n",
    "X=X[:int(0.9*len(X))]\n",
    "X=X.T\n",
    "test_output=y[int(0.9*len(y)):]\n",
    "y=y[:int(0.9*len(y))]\n",
    "alpha = 0.01\n",
    "size=3\n",
    "theta_prev = [5]*size\n",
    "theta = [0]*size\n",
    "\n",
    "for i in range(3):\n",
    "    theta[i] = theta_prev[i]+alpha*np.sum((y-(g(np.matmul(theta_prev,X)))*X[i]))\n",
    "    \n",
    "min_diff=1e-8\n",
    "while abs(theta[0]-theta_prev[0])>=min_diff or abs(theta[1]-theta_prev[1])>=min_diff or abs(theta[2]-theta_prev[2])>=min_diff:\n",
    "    theta_prev = theta\n",
    "    for i in range(3):\n",
    "        theta[i] = theta_prev[i]+alpha*np.sum((y-(g(np.matmul(theta_prev,X)))*X[i]))\n",
    "\n",
    "pred_value=[]\n",
    "for i in range(len(test_input)):\n",
    "    if g(np.matmul(theta,test_input[i]))<=0.5:\n",
    "        pred_value.append(0)\n",
    "    else:\n",
    "        pred_value.append(1)\n",
    "count=0\n",
    "\n",
    "for i in range(len(test_input)):\n",
    "    if pred_value[i]==test_output[i]:\n",
    "        count+=1\n",
    "print(f'Accuracy = {count/len(test_input)*100}')"
   ]
  },
  {
   "cell_type": "code",
   "execution_count": 67,
   "metadata": {},
   "outputs": [
    {
     "name": "stdout",
     "output_type": "stream",
     "text": [
      "Accuracy = 75.0\n"
     ]
    }
   ],
   "source": [
    "#Q2\n",
    "from sympy import *\n",
    "import numpy as np\n",
    "import pandas as pd\n",
    "import math as m\n",
    "import random\n",
    "z = Symbol('z')\n",
    "g = 1/(1+exp(-z))\n",
    "g = lambdify(z,g,'numpy')\n",
    "\n",
    "df = pd.read_excel(r'/home/rohan/Downloads/ex2data2-logistic.xls')\n",
    "x1 = np.array(df['x1'])\n",
    "x1 = (x1-x1.mean())/np.std(x1)\n",
    "x2 = np.array(df['x2'])\n",
    "x2 = (x2-x2.mean())/np.std(x2)\n",
    "y = np.array(df['y'])\n",
    "\n",
    "temp = np.ones((len(x1),1))\n",
    "X = np.c_[temp,x1*x1,x2*x2,x1*x2]\n",
    "randomize = np.arange(len(X))\n",
    "random.shuffle(randomize)\n",
    "X = X[randomize]\n",
    "y = y[randomize]\n",
    "random.shuffle(X)\n",
    "test_input=X[int(0.9*len(X)):]\n",
    "X=X[:int(0.9*len(X))]\n",
    "X=X.T\n",
    "test_output=y[int(0.9*len(y)):]\n",
    "y=y[:int(0.9*len(y))]\n",
    "alpha = 0.01\n",
    "size=4\n",
    "theta_prev = [5]*size\n",
    "theta = [0]*size\n",
    "\n",
    "for i in range(3):\n",
    "    theta[i] = theta_prev[i]+alpha*np.sum((y-(g(np.matmul(theta_prev,X)))*X[i]))\n",
    "    \n",
    "min_diff=1e-7\n",
    "while abs(theta[0]-theta_prev[0])>=min_diff or abs(theta[1]-theta_prev[1])>=min_diff or abs(theta[2]-theta_prev[2])>=min_diff or abs(theta[3]-theta_prev[3])>=min_diff:\n",
    "    theta_prev = theta\n",
    "    for i in range(3):\n",
    "        theta[i] = theta_prev[i]+alpha*np.sum((y-(g(np.matmul(theta_prev,X)))*X[i]))\n",
    "\n",
    "pred_value=[]\n",
    "for i in range(len(test_input)):\n",
    "    if g(np.matmul(theta,test_input[i]))>0.5:\n",
    "        pred_value.append(0)\n",
    "    else:\n",
    "        pred_value.append(1)\n",
    "count=0\n",
    "\n",
    "for i in range(len(test_input)):\n",
    "    if pred_value[i]==test_output[i]:\n",
    "        count+=1\n",
    "print(f'Accuracy = {count/len(test_input)*100}')"
   ]
  },
  {
   "cell_type": "code",
   "execution_count": null,
   "metadata": {
    "collapsed": true
   },
   "outputs": [],
   "source": []
  }
 ],
 "metadata": {
  "kernelspec": {
   "display_name": "Python 3",
   "language": "python",
   "name": "python3"
  },
  "language_info": {
   "codemirror_mode": {
    "name": "ipython",
    "version": 3
   },
   "file_extension": ".py",
   "mimetype": "text/x-python",
   "name": "python",
   "nbconvert_exporter": "python",
   "pygments_lexer": "ipython3",
   "version": "3.6.3"
  }
 },
 "nbformat": 4,
 "nbformat_minor": 2
}
